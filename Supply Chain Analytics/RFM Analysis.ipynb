{
 "cells": [
  {
   "cell_type": "markdown",
   "metadata": {},
   "source": [
    "# RFM Example"
   ]
  },
  {
   "cell_type": "code",
   "execution_count": 1,
   "metadata": {},
   "outputs": [],
   "source": [
    "#IMPORT MODULES\n",
    "import pandas as pd\n",
    "import numpy as np\n",
    "import datetime as dt\n",
    "\n",
    "# visulisation \n",
    "import seaborn as sns; sns.set()\n",
    "import matplotlib.pyplot as plt\n",
    "\n"
   ]
  },
  {
   "cell_type": "code",
   "execution_count": 15,
   "metadata": {},
   "outputs": [],
   "source": [
    "# load data\n",
    "df_uk = pd.read_excel('UK_Data.xlsx',index_col=0)\n"
   ]
  },
  {
   "cell_type": "code",
   "execution_count": 7,
   "metadata": {},
   "outputs": [
    {
     "data": {
      "text/plain": [
       "datetime.date(2011, 12, 9)"
      ]
     },
     "execution_count": 7,
     "metadata": {},
     "output_type": "execute_result"
    }
   ],
   "source": [
    "# To calculate Recency value, we need to get a reference date\n",
    "ref = df_uk.InvoiceDate.dt.date.max()\n",
    "ref"
   ]
  },
  {
   "cell_type": "code",
   "execution_count": 16,
   "metadata": {},
   "outputs": [
    {
     "data": {
      "text/html": [
       "<div>\n",
       "<style scoped>\n",
       "    .dataframe tbody tr th:only-of-type {\n",
       "        vertical-align: middle;\n",
       "    }\n",
       "\n",
       "    .dataframe tbody tr th {\n",
       "        vertical-align: top;\n",
       "    }\n",
       "\n",
       "    .dataframe thead th {\n",
       "        text-align: right;\n",
       "    }\n",
       "</style>\n",
       "<table border=\"1\" class=\"dataframe\">\n",
       "  <thead>\n",
       "    <tr style=\"text-align: right;\">\n",
       "      <th></th>\n",
       "      <th>InvoiceNo</th>\n",
       "      <th>StockCode</th>\n",
       "      <th>Description</th>\n",
       "      <th>Quantity</th>\n",
       "      <th>InvoiceDate</th>\n",
       "      <th>UnitPrice</th>\n",
       "      <th>CustomerID</th>\n",
       "      <th>Country</th>\n",
       "      <th>Amount</th>\n",
       "    </tr>\n",
       "  </thead>\n",
       "  <tbody>\n",
       "    <tr>\n",
       "      <th>0</th>\n",
       "      <td>536365</td>\n",
       "      <td>85123A</td>\n",
       "      <td>WHITE HANGING HEART T-LIGHT HOLDER</td>\n",
       "      <td>6</td>\n",
       "      <td>2010-12-01</td>\n",
       "      <td>2.55</td>\n",
       "      <td>17850</td>\n",
       "      <td>United Kingdom</td>\n",
       "      <td>15.30</td>\n",
       "    </tr>\n",
       "    <tr>\n",
       "      <th>1</th>\n",
       "      <td>536365</td>\n",
       "      <td>71053</td>\n",
       "      <td>WHITE METAL LANTERN</td>\n",
       "      <td>6</td>\n",
       "      <td>2010-12-01</td>\n",
       "      <td>3.39</td>\n",
       "      <td>17850</td>\n",
       "      <td>United Kingdom</td>\n",
       "      <td>20.34</td>\n",
       "    </tr>\n",
       "    <tr>\n",
       "      <th>2</th>\n",
       "      <td>536365</td>\n",
       "      <td>84406B</td>\n",
       "      <td>CREAM CUPID HEARTS COAT HANGER</td>\n",
       "      <td>8</td>\n",
       "      <td>2010-12-01</td>\n",
       "      <td>2.75</td>\n",
       "      <td>17850</td>\n",
       "      <td>United Kingdom</td>\n",
       "      <td>22.00</td>\n",
       "    </tr>\n",
       "    <tr>\n",
       "      <th>3</th>\n",
       "      <td>536365</td>\n",
       "      <td>84029G</td>\n",
       "      <td>KNITTED UNION FLAG HOT WATER BOTTLE</td>\n",
       "      <td>6</td>\n",
       "      <td>2010-12-01</td>\n",
       "      <td>3.39</td>\n",
       "      <td>17850</td>\n",
       "      <td>United Kingdom</td>\n",
       "      <td>20.34</td>\n",
       "    </tr>\n",
       "    <tr>\n",
       "      <th>4</th>\n",
       "      <td>536365</td>\n",
       "      <td>84029E</td>\n",
       "      <td>RED WOOLLY HOTTIE WHITE HEART.</td>\n",
       "      <td>6</td>\n",
       "      <td>2010-12-01</td>\n",
       "      <td>3.39</td>\n",
       "      <td>17850</td>\n",
       "      <td>United Kingdom</td>\n",
       "      <td>20.34</td>\n",
       "    </tr>\n",
       "  </tbody>\n",
       "</table>\n",
       "</div>"
      ],
      "text/plain": [
       "   InvoiceNo StockCode                          Description  Quantity  \\\n",
       "0     536365    85123A   WHITE HANGING HEART T-LIGHT HOLDER         6   \n",
       "1     536365     71053                  WHITE METAL LANTERN         6   \n",
       "2     536365    84406B       CREAM CUPID HEARTS COAT HANGER         8   \n",
       "3     536365    84029G  KNITTED UNION FLAG HOT WATER BOTTLE         6   \n",
       "4     536365    84029E       RED WOOLLY HOTTIE WHITE HEART.         6   \n",
       "\n",
       "  InvoiceDate  UnitPrice  CustomerID         Country  Amount  \n",
       "0  2010-12-01       2.55       17850  United Kingdom   15.30  \n",
       "1  2010-12-01       3.39       17850  United Kingdom   20.34  \n",
       "2  2010-12-01       2.75       17850  United Kingdom   22.00  \n",
       "3  2010-12-01       3.39       17850  United Kingdom   20.34  \n",
       "4  2010-12-01       3.39       17850  United Kingdom   20.34  "
      ]
     },
     "execution_count": 16,
     "metadata": {},
     "output_type": "execute_result"
    }
   ],
   "source": [
    "# Since InvoiceDate column contains time values, we need to convert the column to date only values\n",
    "df_uk.InvoiceDate = df_uk.InvoiceDate.dt.date\n",
    "df_uk.head()\n"
   ]
  },
  {
   "cell_type": "code",
   "execution_count": 20,
   "metadata": {},
   "outputs": [
    {
     "data": {
      "text/plain": [
       "CustomerID\n",
       "12747      2\n",
       "12748      0\n",
       "12749      3\n",
       "12820      3\n",
       "12821    214\n",
       "Name: InvoiceDate, dtype: int64"
      ]
     },
     "execution_count": 20,
     "metadata": {},
     "output_type": "execute_result"
    }
   ],
   "source": [
    "# We can then get Recency values for each customer by calculating the difference between the reference date (i.e., 2011-12-09) \n",
    "# and the most recent date when a customer made a purchase. Consider below, where we groupby CustomerID and apply a lambda function on InvoiceDate:\n",
    "recency = df_uk.groupby('CustomerID')['InvoiceDate'].apply(lambda x: (ref-x.max()).days)\n",
    "recency.head()"
   ]
  },
  {
   "cell_type": "code",
   "execution_count": null,
   "metadata": {},
   "outputs": [],
   "source": [
    "# To calculate Frequency values, we can use the total number of unique invoice number per customer. \n",
    "frequency = df_uk.groupby('CustomerID')['InvoiceNo'].nunique()\n",
    "frequency.head()"
   ]
  },
  {
   "cell_type": "code",
   "execution_count": null,
   "metadata": {},
   "outputs": [],
   "source": [
    "# For Monetary values, we can use the total amount spent by each customer over the entire period:\n",
    "monetary = df_uk.groupby('CustomerID')['Amount'].sum()\n",
    "monetary.head()"
   ]
  },
  {
   "cell_type": "code",
   "execution_count": null,
   "metadata": {},
   "outputs": [],
   "source": [
    "# After getting all three R, F, and M values, we can combine them into one DataFrame.\n",
    "# First combine recency and frequency\n",
    "df_rf = recency.to_frame(name='Recency').\\\n",
    "join(frequency.to_frame(name='Frequency'))\n",
    "\n",
    "# then monetary\n",
    "df_rfm = df_rf.join(monetary.to_frame(name='Monetary'))\n",
    "df_rfm.head()"
   ]
  },
  {
   "cell_type": "code",
   "execution_count": null,
   "metadata": {},
   "outputs": [],
   "source": [
    "# The next step is to convert the respective R, F, and M values into scale scores. \n",
    "# We use quantiles to determine five equal sized groups, thereby assigning R, F, and M values on a 1–5 scale.\n",
    "Quantiles = df_rfm.quantile(q=[0.2,0.4,0.6,0.8])\n",
    "Quantiles"
   ]
  },
  {
   "cell_type": "code",
   "execution_count": null,
   "metadata": {},
   "outputs": [],
   "source": [
    "# Based on these values, we can convert the three R, F, M values into scale scores.\n",
    "def Rscore(x,q,df): #x=value, q=column, df = dataframe\n",
    "    if x <= df[q][0.2]:\n",
    "        return 5\n",
    "    elif x <= df[q][0.4]:\n",
    "        return 4\n",
    "    elif x <= df[q][0.6]:\n",
    "        return 3\n",
    "    elif x<= df[q][0.8]:\n",
    "        return 2\n",
    "    else:\n",
    "        return 1"
   ]
  },
  {
   "cell_type": "code",
   "execution_count": null,
   "metadata": {},
   "outputs": [],
   "source": [
    "# Since we will use df_rfm for other purpose later, we shall create a copy of the DataFrame and then apply the function to derive R score. \n",
    "rfm_copy = df_rfm.copy()\n",
    "rfm_copy['Rscore'] = rfm_copy['Recency'].\\\n",
    "apply(Rscore,args=('Recency',Quantiles))\n",
    "rfm_copy.head()"
   ]
  },
  {
   "cell_type": "code",
   "execution_count": null,
   "metadata": {},
   "outputs": [],
   "source": [
    "# Likewise, we can define a function for F and M scores conversion and call it to create Fscore and Mscore columns in the rfm_copy DataFrame\n",
    "def FMscore (x,q,df):\n",
    "    if x <= df[q][0.2]:\n",
    "        return 1\n",
    "    elif x <= df[q][0.4]:\n",
    "        return 2\n",
    "    elif x <= df[q][0.6]:\n",
    "        return 3\n",
    "    elif x<= df[q][0.8]:\n",
    "        return 4\n",
    "    else:\n",
    "        return 5\n",
    "    \n",
    "rfm_copy['Fscore'] = rfm_copy['Frequency'].\\\n",
    "apply(FMscore,args=('Frequency',Quantiles))\n",
    "rfm_copy['Mscore'] = rfm_copy['Monetary'].\\\n",
    "apply(FMscore,args=('Monetary',Quantiles))\n",
    "\n",
    "rfm_copy.head(10)"
   ]
  },
  {
   "cell_type": "code",
   "execution_count": null,
   "metadata": {},
   "outputs": [],
   "source": [
    "# For customer segmentation, we can use the aggregate RFM scores by simply taking the average of the R, F, M scores \n",
    "rfm_copy['RFMscore'] = rfm_copy[['Rscore','Fscore','Mscore']].mean(axis=1)\n",
    "rfm_copy.head()"
   ]
  },
  {
   "cell_type": "code",
   "execution_count": null,
   "metadata": {},
   "outputs": [],
   "source": [
    "# Based on the RFM score we can segment customers into different groups\n",
    "def segment(df):\n",
    "    if df.RFMscore <= 1:\n",
    "        return 'Basic'\n",
    "    elif df.RFMscore <= 2:\n",
    "        return 'Bronze'\n",
    "    elif df.RFMscore <= 3:\n",
    "        return 'Silver'\n",
    "    elif df.RFMscore <= 4:\n",
    "        return 'Gold'\n",
    "    elif df.RFMscore <= 4.5:\n",
    "        return 'Platinum'\n",
    "    else:\n",
    "        return 'Diamond'\n",
    "    \n"
   ]
  },
  {
   "cell_type": "code",
   "execution_count": null,
   "metadata": {},
   "outputs": [],
   "source": [
    "# Apply function to get segmentation\n",
    "rfm_copy['LoyaltyGroup'] = rfm_copy.apply(segment,axis=1)\n",
    "rfm_copy.head(10)"
   ]
  },
  {
   "cell_type": "code",
   "execution_count": null,
   "metadata": {},
   "outputs": [],
   "source": [
    "# check how many customers are in each group\n",
    "rfm_score = rfm_copy.reset_index()\n",
    "rfm_score.groupby('LoyaltyGroup')['CustomerID'].count().sort_values(ascending=False)"
   ]
  }
 ],
 "metadata": {
  "kernelspec": {
   "display_name": "Python 3",
   "language": "python",
   "name": "python3"
  },
  "language_info": {
   "codemirror_mode": {
    "name": "ipython",
    "version": 3
   },
   "file_extension": ".py",
   "mimetype": "text/x-python",
   "name": "python",
   "nbconvert_exporter": "python",
   "pygments_lexer": "ipython3",
   "version": "3.11.5"
  },
  "latex_envs": {
   "LaTeX_envs_menu_present": true,
   "autoclose": false,
   "autocomplete": true,
   "bibliofile": "biblio.bib",
   "cite_by": "apalike",
   "current_citInitial": 1,
   "eqLabelWithNumbers": true,
   "eqNumInitial": 1,
   "hotkeys": {
    "equation": "Ctrl-E",
    "itemize": "Ctrl-I"
   },
   "labels_anchors": false,
   "latex_user_defs": false,
   "report_style_numbering": false,
   "user_envs_cfg": false
  },
  "toc": {
   "base_numbering": 1,
   "nav_menu": {},
   "number_sections": true,
   "sideBar": true,
   "skip_h1_title": false,
   "title_cell": "Table of Contents",
   "title_sidebar": "Contents",
   "toc_cell": false,
   "toc_position": {},
   "toc_section_display": true,
   "toc_window_display": false
  }
 },
 "nbformat": 4,
 "nbformat_minor": 2
}
