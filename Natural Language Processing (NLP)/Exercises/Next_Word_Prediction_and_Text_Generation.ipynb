{
  "nbformat": 4,
  "nbformat_minor": 0,
  "metadata": {
    "colab": {
      "provenance": []
    },
    "kernelspec": {
      "name": "python3",
      "display_name": "Python 3"
    },
    "language_info": {
      "name": "python"
    }
  },
  "cells": [
    {
      "cell_type": "code",
      "source": [
        "import pandas as pd\n",
        "import matplotlib.pyplot as plt\n",
        "import seaborn as sns\n",
        "import re"
      ],
      "metadata": {
        "id": "uyDKvKLbuExF"
      },
      "execution_count": null,
      "outputs": []
    },
    {
      "cell_type": "markdown",
      "source": [
        "#Next Word Prediction and Text Generation"
      ],
      "metadata": {
        "id": "rP8-Aa3R-5bI"
      }
    },
    {
      "cell_type": "code",
      "source": [
        "import nltk\n",
        "nltk.download('gutenberg')  # Make sure the Gutenberg corpus is downloaded\n",
        "from nltk.corpus import gutenberg"
      ],
      "metadata": {
        "colab": {
          "base_uri": "https://localhost:8080/"
        },
        "id": "Xmb_dsmG3oJ4",
        "outputId": "fb2c2f8d-2c18-4644-f3af-0e444125248f"
      },
      "execution_count": null,
      "outputs": [
        {
          "output_type": "stream",
          "name": "stderr",
          "text": [
            "[nltk_data] Downloading package gutenberg to /root/nltk_data...\n",
            "[nltk_data]   Unzipping corpora/gutenberg.zip.\n"
          ]
        }
      ]
    },
    {
      "cell_type": "code",
      "source": [
        "# Load \"Moby Dick\" text\n",
        "mmd = gutenberg.raw('melville-moby_dick.txt')\n",
        "\n",
        "# Print the first 500 characters\n",
        "print(mmd[:500])"
      ],
      "metadata": {
        "colab": {
          "base_uri": "https://localhost:8080/"
        },
        "id": "hgiFEysy4k5v",
        "outputId": "e61d329e-dbf7-4485-a2ce-771af5d7a5b7"
      },
      "execution_count": null,
      "outputs": [
        {
          "output_type": "stream",
          "name": "stdout",
          "text": [
            "[Moby Dick by Herman Melville 1851]\r\n",
            "\r\n",
            "\r\n",
            "ETYMOLOGY.\r\n",
            "\r\n",
            "(Supplied by a Late Consumptive Usher to a Grammar School)\r\n",
            "\r\n",
            "The pale Usher--threadbare in coat, heart, body, and brain; I see him\r\n",
            "now.  He was ever dusting his old lexicons and grammars, with a queer\r\n",
            "handkerchief, mockingly embellished with all the gay flags of all the\r\n",
            "known nations of the world.  He loved to dust his old grammars; it\r\n",
            "somehow mildly reminded him of his mortality.\r\n",
            "\r\n",
            "\"While you take in hand to school others, and to teac\n"
          ]
        }
      ]
    },
    {
      "cell_type": "code",
      "source": [
        "import nltk\n",
        "from nltk import word_tokenize, ngrams\n",
        "from collections import defaultdict, Counter\n",
        "nltk.download('punkt')\n",
        "\n",
        "# Tokenize the text\n",
        "tokens = word_tokenize(mmd.lower())  # Convert to lower case\n",
        "\n",
        "# Generate trigrams from the tokens\n",
        "trigrams = list(ngrams(tokens, 3))\n",
        "trigram_freq = defaultdict(Counter)\n",
        "\n",
        "# Populate the frequencies of trigrams\n",
        "for w1, w2, w3 in trigrams:\n",
        "    trigram_freq[(w1, w2)][w3] += 1\n",
        "\n",
        "# Function to predict the next word\n",
        "def predict_next_word(w1, w2):\n",
        "    if (w1, w2) in trigram_freq:\n",
        "        # Get the most common next word for the given bigram (w1, w2)\n",
        "        return trigram_freq[(w1, w2)].most_common(1)[0][0]\n",
        "    else:\n",
        "        return None\n",
        "\n",
        "# Function to generate text\n",
        "def generate_text(start_words, num_words):\n",
        "    if len(start_words) < 2:\n",
        "        return \"Please provide at least two starting words.\"\n",
        "\n",
        "    generated_words = list(start_words)\n",
        "    for _ in range(num_words):\n",
        "        next_word = predict_next_word(generated_words[-2], generated_words[-1])\n",
        "        if next_word is None:\n",
        "            break  # Break if no next word is found\n",
        "        generated_words.append(next_word)\n",
        "\n",
        "    return ' '.join(generated_words)"
      ],
      "metadata": {
        "colab": {
          "base_uri": "https://localhost:8080/"
        },
        "id": "Fi4y9kTh5Ont",
        "outputId": "8635144a-8dd6-4a19-dd4c-3b9dcff72828"
      },
      "execution_count": null,
      "outputs": [
        {
          "output_type": "stream",
          "name": "stderr",
          "text": [
            "[nltk_data] Downloading package punkt to /root/nltk_data...\n",
            "[nltk_data]   Unzipping tokenizers/punkt.zip.\n"
          ]
        }
      ]
    },
    {
      "cell_type": "code",
      "source": [
        "# Predict next word based on 3-grams\n",
        "print(\"Next word:\", predict_next_word('he', 'was'))"
      ],
      "metadata": {
        "colab": {
          "base_uri": "https://localhost:8080/"
        },
        "id": "81k5ag805X-l",
        "outputId": "66be92e4-0e76-4339-a36d-557a8888c552"
      },
      "execution_count": null,
      "outputs": [
        {
          "output_type": "stream",
          "name": "stdout",
          "text": [
            "Next word: a\n"
          ]
        }
      ]
    },
    {
      "cell_type": "code",
      "source": [
        "# Function for text generation\n",
        "import random\n",
        "\n",
        "# Function to predict the next word with randomness\n",
        "def predict_next_word(w1, w2):\n",
        "    if (w1, w2) in trigram_freq:\n",
        "        next_words = list(trigram_freq[(w1, w2)].elements())\n",
        "        return random.choice(next_words) if next_words else None\n",
        "    else:\n",
        "        return None\n",
        "\n",
        "# Function to generate text with randomness\n",
        "def generate_text(start_words, num_words):\n",
        "    if len(start_words) < 2:\n",
        "        return \"Please provide at least two starting words.\"\n",
        "\n",
        "    generated_words = list(start_words)\n",
        "    for _ in range(num_words):\n",
        "        next_word = predict_next_word(generated_words[-2], generated_words[-1])\n",
        "        if next_word is None:\n",
        "            break  # Break if no next word is found\n",
        "        generated_words.append(next_word)\n",
        "\n",
        "    return ' '.join(generated_words)\n"
      ],
      "metadata": {
        "id": "ddkX_0Hb51fe"
      },
      "execution_count": null,
      "outputs": []
    },
    {
      "cell_type": "code",
      "source": [
        "# Text Generation\n",
        "start_words = (\"he\", \"was\")\n",
        "generate_text(start_words, 500)"
      ],
      "metadata": {
        "colab": {
          "base_uri": "https://localhost:8080/",
          "height": 279
        },
        "id": "EW24XAp_57xt",
        "outputId": "cf583da7-9636-4fb8-fede-7c4bd1ad267b"
      },
      "execution_count": null,
      "outputs": [
        {
          "output_type": "execute_result",
          "data": {
            "text/plain": [
              "\"he was going on with his hands . '' all your meals for three days previous , bildad , avast there , and grappling the beefsteaks towards him . he 's robbed a widow ; '' or minute vertical tube formed at the top of his hands off ! this fish , whose captain and crew , the great world 's loom , thy unparticipated grief . ho , ho ! more intolerable than fiends ' glarings is a new face altogether , the captain , addressing ahab ; `` i will dismember my dismemberer . now , queequeg , shaking himself , while the two reversed needles there , wrapped in outer darkness . instantly the yards to the pequod must have been visible at the watches , his spout was oft seen from the table , ahab cried out to them , because he could take it , like man , too , remain wholly inexplicable . in short , everything betokened that some young seals that had only just lifted my foot against the proceedings of the enormousness of that proceeding being entirely unnecessary . it was found dead in my brief sleep i had been betrayed . at last ; do n't know yet how to get the almanac and as he toiled . nevertheless , as when the romans took joppa , now took off the patagonian coast , seemed madness . two hundred fathoms of rope , he toiled . nevertheless , not a whole ship 's run was a fine run , men ? look to those men who have vaguely heard rumors of the whale ? '' `` up burtons and break out in his species , declares not to swaller wid , but i consider the otherwise unaccountable mystery , and should poor queequeg , because the white-bone or swell at his own weight , that stubb vowed he recognised his cutting spade-pole entangled in it the name bestowed upon this , nowhere in all things that darted through the glass the stranger 's boats as headsmen . in the crotch , respectively called the junk , is to him in their hands met ; and afloat the vast sperm whale blows as a giraffe , moved about gaily , though ; -- '' god : done this day week may sink , with his crew 's , the grand programme of providence that was strange to see . `` 't is but resting for the most vexatious and violent storms to which the first bench lengthwise along the tartarian tiles in some previous place i have a chance to think that any mere sailor of the ship itself , under certain given circumstances , i stooped over the house was in the circular . `` i will not go on a combing wave , hurled themselves bodily inboard again ; and ye , my lord duke in substance , upon arriving home , and began creaking and limping along , and lay\""
            ],
            "application/vnd.google.colaboratory.intrinsic+json": {
              "type": "string"
            }
          },
          "metadata": {},
          "execution_count": 16
        }
      ]
    },
    {
      "cell_type": "markdown",
      "source": [
        "Create text generation based on the file `tinyshakespeare.txt` using n-grams.\n",
        "\n",
        "Repeat with embeddings.\n",
        "\n",
        "Find the closest words to 'king' and plot the results."
      ],
      "metadata": {
        "id": "NnN7ve0z6rJd"
      }
    },
    {
      "cell_type": "code",
      "source": [
        "import nltk\n",
        "from nltk.corpus import stopwords\n",
        "from nltk.tokenize import word_tokenize\n",
        "\n",
        "# Download necessary NLTK resources\n",
        "nltk.download('punkt')\n",
        "nltk.download('stopwords')\n",
        "\n",
        "import requests\n",
        "\n",
        "# URL to the raw text file on GitHub\n",
        "url = 'https://raw.githubusercontent.com/RDGopal/IB9CW0-Text-Analytics/main/Data/tinyshakespeare.txt'\n",
        "\n",
        "# Use requests to get the content of the file\n",
        "response = requests.get(url)\n",
        "\n",
        "# Ensure the request was successful\n",
        "if response.status_code == 200:\n",
        "    text = response.text.lower()\n",
        "    # Continue processing the text as needed\n",
        "else:\n",
        "    print(\"Failed to retrieve the file. Status code:\", response.status_code)\n",
        "\n",
        "# Tokenize the text\n",
        "tokens = word_tokenize(text)"
      ],
      "metadata": {
        "colab": {
          "base_uri": "https://localhost:8080/"
        },
        "id": "wcyRDv_r7Sev",
        "outputId": "6d3d40c4-5a44-420c-c7b8-05d91359a230"
      },
      "execution_count": null,
      "outputs": [
        {
          "output_type": "stream",
          "name": "stderr",
          "text": [
            "[nltk_data] Downloading package punkt to /root/nltk_data...\n",
            "[nltk_data]   Package punkt is already up-to-date!\n",
            "[nltk_data] Downloading package stopwords to /root/nltk_data...\n",
            "[nltk_data]   Unzipping corpora/stopwords.zip.\n"
          ]
        }
      ]
    },
    {
      "cell_type": "code",
      "source": [
        "text[0:500]"
      ],
      "metadata": {
        "colab": {
          "base_uri": "https://localhost:8080/",
          "height": 70
        },
        "id": "EKyGpmNc76SR",
        "outputId": "0e89c023-1ff1-4b10-b800-ff132e4fc02a"
      },
      "execution_count": null,
      "outputs": [
        {
          "output_type": "execute_result",
          "data": {
            "text/plain": [
              "\"first citizen:\\nbefore we proceed any further, hear me speak.\\n\\nall:\\nspeak, speak.\\n\\nfirst citizen:\\nyou are all resolved rather to die than to famish?\\n\\nall:\\nresolved. resolved.\\n\\nfirst citizen:\\nfirst, you know caius marcius is chief enemy to the people.\\n\\nall:\\nwe know't, we know't.\\n\\nfirst citizen:\\nlet us kill him, and we'll have corn at our own price.\\nis't a verdict?\\n\\nall:\\nno more talking on't; let it be done: away, away!\\n\\nsecond citizen:\\none word, good citizens.\\n\\nfirst citizen:\\nwe are accounted poor\""
            ],
            "application/vnd.google.colaboratory.intrinsic+json": {
              "type": "string"
            }
          },
          "metadata": {},
          "execution_count": 20
        }
      ]
    },
    {
      "cell_type": "code",
      "source": [
        "# Generate trigrams from the tokens\n",
        "trigrams = list(ngrams(tokens, 3))\n",
        "trigram_freq = defaultdict(Counter)\n",
        "\n",
        "# Populate the frequencies of trigrams\n",
        "for w1, w2, w3 in trigrams:\n",
        "    trigram_freq[(w1, w2)][w3] += 1\n",
        "\n",
        "# Function to predict the next word\n",
        "def predict_next_word(w1, w2):\n",
        "    if (w1, w2) in trigram_freq:\n",
        "        # Get the most common next word for the given bigram (w1, w2)\n",
        "        return trigram_freq[(w1, w2)].most_common(1)[0][0]\n",
        "    else:\n",
        "        return None\n",
        "\n",
        "# Function to generate text\n",
        "def generate_text(start_words, num_words):\n",
        "    if len(start_words) < 2:\n",
        "        return \"Please provide at least two starting words.\"\n",
        "\n",
        "    generated_words = list(start_words)\n",
        "    for _ in range(num_words):\n",
        "        next_word = predict_next_word(generated_words[-2], generated_words[-1])\n",
        "        if next_word is None:\n",
        "            break  # Break if no next word is found\n",
        "        generated_words.append(next_word)\n",
        "\n",
        "    return ' '.join(generated_words)"
      ],
      "metadata": {
        "id": "q9DGVmOW7kBk"
      },
      "execution_count": null,
      "outputs": []
    },
    {
      "cell_type": "code",
      "source": [
        "# Predict next word based on 3-grams\n",
        "print(\"Next word:\", predict_next_word('be', 'done'))"
      ],
      "metadata": {
        "colab": {
          "base_uri": "https://localhost:8080/"
        },
        "id": "cmOPIxuW7mol",
        "outputId": "95d2f79b-3377-4029-df8e-dc4ed14a88a2"
      },
      "execution_count": null,
      "outputs": [
        {
          "output_type": "stream",
          "name": "stdout",
          "text": [
            "Next word: ,\n"
          ]
        }
      ]
    },
    {
      "cell_type": "code",
      "source": [
        "# Function for text generation\n",
        "import random\n",
        "\n",
        "# Function to predict the next word with randomness\n",
        "def predict_next_word(w1, w2):\n",
        "    if (w1, w2) in trigram_freq:\n",
        "        next_words = list(trigram_freq[(w1, w2)].elements())\n",
        "        return random.choice(next_words) if next_words else None\n",
        "    else:\n",
        "        return None\n",
        "\n",
        "# Function to generate text with randomness\n",
        "def generate_text(start_words, num_words):\n",
        "    if len(start_words) < 2:\n",
        "        return \"Please provide at least two starting words.\"\n",
        "\n",
        "    generated_words = list(start_words)\n",
        "    for _ in range(num_words):\n",
        "        next_word = predict_next_word(generated_words[-2], generated_words[-1])\n",
        "        if next_word is None:\n",
        "            break  # Break if no next word is found\n",
        "        generated_words.append(next_word)\n",
        "\n",
        "    return ' '.join(generated_words)"
      ],
      "metadata": {
        "id": "BQ6_8bDL8F2T"
      },
      "execution_count": null,
      "outputs": []
    },
    {
      "cell_type": "code",
      "source": [
        "# Text Generation\n",
        "start_words = (\"to\", \"be\")\n",
        "generate_text(start_words, 500)"
      ],
      "metadata": {
        "colab": {
          "base_uri": "https://localhost:8080/",
          "height": 244
        },
        "id": "cHcHz-8B8LJD",
        "outputId": "b45c7351-fb5c-4a75-89ad-64204333ab8b"
      },
      "execution_count": null,
      "outputs": [
        {
          "output_type": "execute_result",
          "data": {
            "text/plain": [
              "\"to be ? what is the argument no longer hold me not thy master cut out and sewed up again ; 'twere no charity ; made glory base and sovereignty a slave of nature and the lips of those branches by the woman 's general ; but stir not you till you are more beautiful than any woman wrong 'd by falsehood of his face i have , my lord , you are learn 'd me in . i ca n't say your queen , bearing a tartar 's painted bow of lath , scaring the ladies have prevail 'd as many as you were lesson 'd , the traitor in ? i am in all the devils are here , i see , two lads that thought he would not have been , or one destroyed : a good wager , first begins to crow ? sebastian : his name is ominous to noble peers ! within thine eyes ; one who never feels the wanton spoil of phoebus ' lodging : such a cuff that down fell priest and clerk ? well i love a tender thing . king henry vi king henry vi : and as curst and shrewd as socrates ' xanthippe , or any of your husband king , yet in this island we arrived ; and bolingbroke says ay . northumberland : had he match 'd in curses , stay ! romeo , that it may not be , sir , my brother worcester , whencesoever . harry , 't was to put metal in restrained means to make me not , though i am dog-weary : but it is spoke freely out of the world ! kate like the dam commit them to think it strange ; for 't was time for him too . first gentleman : never , o hear me ; i will fill the world 's vastidity you had not god , neglect the visitation which he should , made issue from the ground , mistress ! satisfy ! let not us . blunt : go see if the drink you give me pains , fitzwater , i still be cross in talk , but he , having the hour of nine , and do bring in cloudy night immediately . catesby : many thousand on's have the power to bite the lip , a child shall get a tooth in her imagined person . exton : didst perceive it ? for sleeping england long time have told me i did contend against thy entrance . henry bolingbroke : of neither , girl : and then in london streets , and that there were two such opposed kings encamp them still in man as well assured that he shuts up himself , if thine eye be not so honourable a grave as thou hast made it not an ear open . he turns away : you are of damned witchcraft , who for bohemia bend , to be pitied of thee\""
            ],
            "application/vnd.google.colaboratory.intrinsic+json": {
              "type": "string"
            }
          },
          "metadata": {},
          "execution_count": 23
        }
      ]
    },
    {
      "cell_type": "code",
      "source": [
        "from gensim.models import Word2Vec\n",
        "from nltk.tokenize import word_tokenize\n",
        "import nltk\n",
        "nltk.download('punkt')\n",
        "\n",
        "# Assuming `sas` contains the raw text of \"Sense and Sensibility\"\n",
        "tokens = word_tokenize(text.lower())  # Tokenize and convert to lower case\n",
        "\n",
        "# Organize the tokens into sentences, Word2Vec needs data in format of list of lists of tokens\n",
        "sentences = [tokens[i:i+100] for i in range(0, len(tokens), 100)]"
      ],
      "metadata": {
        "colab": {
          "base_uri": "https://localhost:8080/"
        },
        "id": "ieSd7fGJ8lOm",
        "outputId": "1b607554-cbee-4b4e-e9fa-4b11fd361a74"
      },
      "execution_count": null,
      "outputs": [
        {
          "output_type": "stream",
          "name": "stderr",
          "text": [
            "[nltk_data] Downloading package punkt to /root/nltk_data...\n",
            "[nltk_data]   Package punkt is already up-to-date!\n"
          ]
        }
      ]
    },
    {
      "cell_type": "code",
      "source": [
        "# Train the CBOW model\n",
        "model = Word2Vec(sentences, vector_size=100, window=5, min_count=1, sg=0)  # sg=0 specifies CBOW\n"
      ],
      "metadata": {
        "id": "vRh-2uWm8szc"
      },
      "execution_count": null,
      "outputs": []
    },
    {
      "cell_type": "code",
      "source": [
        "import random\n",
        "\n",
        "def predict_next_word_cbow(current_words, topn=5):\n",
        "    # Ensure the model is trained with all the words in current_words\n",
        "    current_words = [word for word in current_words if word in model.wv.key_to_index]\n",
        "    if not current_words:\n",
        "        return \"Unknown words\"\n",
        "\n",
        "    # Fetch top 'n' similar words based on the positive example of the current words\n",
        "    similar_words = model.wv.most_similar(positive=current_words, topn=topn)\n",
        "\n",
        "    # Extract words and their similarity scores\n",
        "    words, scores = zip(*similar_words)\n",
        "\n",
        "    # Normalize scores to form a probability distribution\n",
        "    total_score = sum(scores)\n",
        "    probabilities = [score / total_score for score in scores]\n",
        "\n",
        "    # Randomly choose one word based on their similarity scores as probabilities\n",
        "    next_word = random.choices(words, weights=probabilities, k=1)[0]\n",
        "    return next_word"
      ],
      "metadata": {
        "id": "MRJpTjPt9N33"
      },
      "execution_count": null,
      "outputs": []
    },
    {
      "cell_type": "code",
      "source": [
        "def generate_text_cbow(start_words, num_words):\n",
        "    generated_words = start_words.split()\n",
        "    for _ in range(num_words):\n",
        "        next_word = predict_next_word_cbow(generated_words[-2:], topn=10)  # Use top 10 words for randomness\n",
        "        generated_words.append(next_word)\n",
        "    return ' '.join(generated_words)"
      ],
      "metadata": {
        "id": "z3K8HEt79GPN"
      },
      "execution_count": null,
      "outputs": []
    },
    {
      "cell_type": "code",
      "source": [
        "generate_text_cbow(\"to be\", 500)"
      ],
      "metadata": {
        "colab": {
          "base_uri": "https://localhost:8080/",
          "height": 313
        },
        "id": "pn7INgPv9XlF",
        "outputId": "6da02893-349d-40bc-eae8-23907865b5c0"
      },
      "execution_count": null,
      "outputs": [
        {
          "output_type": "execute_result",
          "data": {
            "text/plain": [
              "\"to be bear proceed straight command else sworn bound else never sleep shame soon sleep shame use lie without shame after walls change soon means best without fast received given rough whilst drink lest fast without best sworn yourself ere best fast sworn lie often use soon off while above open o'er off lives proud same lies fearful sad between lost sad new music fearful new ten years new thousand between ears black souls under days high ears souls under high lives fearful even kind gold even lies kind even lies sad even fearful days lives wind deadly gold forth fearful under between law half black days ears between strength under cold black half pride law fearful cold another music black new years between sad mortal new fearful mortal music years dark mortal law black music cold tender half cold another tender itself another cold tender another age fall hours himself two many youth weak strength hours souls half days power law cold days black law between fearful years something mortal years ten mortal between sad lost years being youth left wit stone left 'twere without fast best often sworn without lie cure best without jest best without fast since best ere lie soon fast without received fast without 'twere use still shame use off while without off soon open still use cure off without given 'twere rough stop fast rough received draw without off given whilst while friends whilst together bold whilst open while only open above o'er lives same thereof forth wind deadly wherein wind even wherein wind same gold kind fearful gold even lives kind steel wind kind tender proud wind same even proud tale fearful even sad music foul mortal music years lost music black between law cold tender fearful even wind tender fearful kind same proud fearful three lies bloody within sword looks within same looks grave within three same kind holy lies within even three proud kind three same within wherein heavy air within base bloody heavy warm sword wherein within wind tale steel tender almost walls writ wind walls kind almost walls writ steel tale kind fearful even tale wind wherein gold within even tale wherein gold kind form even kind three ground fearful lives law tender envious tale wind lives forth above high battle above left under lives forth proud off kind wind tender fearful tale lives wind between years left ears fearful law kind great three same lives even kind gold fearful proud three thereof almost wind days deadly another law tender another wind tender days wind law tale days tender vain another law half black between ears fearful under between cold black half another music tender fearful wind tender another itself tender false itself kind another great itself another half power another days cold souls strength fall hours cold two many hours two himself hours two himself doing weak souls over high above days high souls ears strength under cold black bitter thousand black cold fall half another days fall half strength\""
            ],
            "application/vnd.google.colaboratory.intrinsic+json": {
              "type": "string"
            }
          },
          "metadata": {},
          "execution_count": 30
        }
      ]
    },
    {
      "cell_type": "code",
      "source": [
        "def find_closest_words(input_word, topn=10):\n",
        "    if input_word in model.wv.key_to_index:\n",
        "        # Find the topn most similar words\n",
        "        similar_words = model.wv.most_similar(positive=[input_word], topn=topn)\n",
        "        return similar_words  # This returns a list of tuples (word, similarity)\n",
        "    else:\n",
        "        return f\"The word '{input_word}' is not in the vocabulary.\""
      ],
      "metadata": {
        "id": "H5czPZtx9zXM"
      },
      "execution_count": null,
      "outputs": []
    },
    {
      "cell_type": "code",
      "source": [
        "find_closest_words(\"king\", 10)"
      ],
      "metadata": {
        "colab": {
          "base_uri": "https://localhost:8080/"
        },
        "id": "1N-LASKT92VF",
        "outputId": "dd848e18-5d57-4386-b10f-dad676a26f1a"
      },
      "execution_count": null,
      "outputs": [
        {
          "output_type": "execute_result",
          "data": {
            "text/plain": [
              "[('vi', 0.983817458152771),\n",
              " ('iii', 0.9834522604942322),\n",
              " ('edward', 0.9820353388786316),\n",
              " ('henry', 0.9816784262657166),\n",
              " ('xi', 0.9805954694747925),\n",
              " ('iv', 0.9771915078163147),\n",
              " ('duke', 0.975147545337677),\n",
              " ('lewis', 0.9750311374664307),\n",
              " ('ii', 0.9749794602394104),\n",
              " ('richard', 0.9740995764732361)]"
            ]
          },
          "metadata": {},
          "execution_count": 32
        }
      ]
    },
    {
      "cell_type": "code",
      "source": [
        "import matplotlib.pyplot as plt\n",
        "from sklearn.manifold import TSNE\n",
        "import numpy as np\n",
        "\n",
        "def plot_closest_words(model, input_word, topn=20):\n",
        "    if input_word not in model.wv.key_to_index:\n",
        "        print(f\"The word '{input_word}' is not in the vocabulary.\")\n",
        "        return\n",
        "\n",
        "    # Get the closest words specified by 'topn'\n",
        "    closest_words = model.wv.most_similar(positive=[input_word], topn=topn)\n",
        "    words = [word for word, _ in closest_words]\n",
        "    words.append(input_word)  # Also include the input word\n",
        "\n",
        "    # Extract the corresponding vectors\n",
        "    word_vectors = np.array([model.wv[word] for word in words])\n",
        "\n",
        "    # Use t-SNE to reduce dimensionality\n",
        "    perplexity_value = min(30, len(words) - 1)  # Ensure perplexity is less than the number of samples\n",
        "    tsne = TSNE(n_components=2, random_state=42, perplexity=perplexity_value)\n",
        "    Y = tsne.fit_transform(word_vectors)\n",
        "\n",
        "    # Plotting\n",
        "    plt.figure(figsize=(12, 12))\n",
        "    plt.scatter(Y[:, 0], Y[:, 1], color='blue')\n",
        "\n",
        "    for label, x, y in zip(words, Y[:, 0], Y[:, 1]):\n",
        "        plt.annotate(label,\n",
        "                     xy=(x, y),\n",
        "                     xytext=(5, -5),\n",
        "                     textcoords='offset points',\n",
        "                     ha='right',\n",
        "                     va='bottom')\n",
        "\n",
        "    plt.show()\n",
        "\n",
        "# Example usage of the function\n",
        "plot_closest_words(model, \"king\", topn=10)"
      ],
      "metadata": {
        "colab": {
          "base_uri": "https://localhost:8080/",
          "height": 984
        },
        "id": "XQiVOhze-C39",
        "outputId": "e83d0b75-1f1a-413f-f1b4-940e8e7279a6"
      },
      "execution_count": null,
      "outputs": [
        {
          "output_type": "display_data",
          "data": {
            "text/plain": [
              "<Figure size 1200x1200 with 1 Axes>"
            ],
            "image/png": "[encoded data removed]"
          },
          "metadata": {}
        }
      ]
    }
  ]
}